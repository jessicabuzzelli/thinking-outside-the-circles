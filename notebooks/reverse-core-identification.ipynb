{
 "cells": [
  {
   "cell_type": "code",
   "execution_count": 1,
   "metadata": {},
   "outputs": [],
   "source": [
    "import pandas as pd\n",
    "from sklearn.ensemble import RandomForestClassifier\n",
    "from sklearn.preprocessing import MinMaxScaler"
   ]
  },
  {
   "cell_type": "markdown",
   "metadata": {},
   "source": [
    "### Format inputs -- cells will export formatted data to ```/data/``` so only need to do once. Skip <a href='#here'>here</a> if already done."
   ]
  },
  {
   "cell_type": "code",
   "execution_count": 2,
   "metadata": {},
   "outputs": [],
   "source": [
    "scaled = False"
   ]
  },
  {
   "cell_type": "code",
   "execution_count": 3,
   "metadata": {},
   "outputs": [],
   "source": [
    "df = pd.read_excel(\"../data/Clean_Data.xlsx\")\n",
    "\n",
    "df.columns = [name.strip() for name in df.columns]\n",
    "df['PROD CAT 4 NAME'].fillna(\"Nonbranded\")\n",
    "df = df.replace('-', 0);"
   ]
  },
  {
   "cell_type": "code",
   "execution_count": 4,
   "metadata": {},
   "outputs": [],
   "source": [
    "preset_categories = {\n",
    "    'core item flag': ['N', 'Y'],\n",
    "    # 'segment': ['Packaging', 'Facility Solutions'],\n",
    "    'stocking flag': ['N', 'Y'],\n",
    "    'national acct flag': ['N', 'Y'],\n",
    "    'PROD CAT 4 NAME': ['Nonbranded', 'Branded'],\n",
    "    'saalfeld customer flag': ['N', 'Y'],\n",
    "}"
   ]
  },
  {
   "cell_type": "code",
   "execution_count": 5,
   "metadata": {},
   "outputs": [],
   "source": [
    "if scaled:\n",
    "    derived_categories = [\n",
    "        'qty 6mos',\n",
    "        'cogs 6mos',\n",
    "        'Margin %',\n",
    "        'picks 6mos',\n",
    "        'net OH',\n",
    "        'net OH $',\n",
    "        'DIOH'\n",
    "    ]\n",
    "\n",
    "    scaler = MinMaxScaler()\n",
    "\n",
    "    out = scaler.fit_transform(df[derived_categories])\n",
    "    df2 = pd.DataFrame(out, columns=derived_categories)\n",
    "\n",
    "    for column in df2.columns:\n",
    "        df[column] = df2[column]"
   ]
  },
  {
   "cell_type": "code",
   "execution_count": 6,
   "metadata": {},
   "outputs": [],
   "source": [
    "for field in preset_categories:\n",
    "    options = preset_categories[field]\n",
    "    buckets = list(range(len(options)))\n",
    "    \n",
    "    for idx in range(len(options)):\n",
    "        df[field] = df[field].replace(options[idx], buckets[idx])"
   ]
  },
  {
   "cell_type": "code",
   "execution_count": 7,
   "metadata": {},
   "outputs": [],
   "source": [
    "df.to_excel('../data/formatted.xlsx')"
   ]
  },
  {
   "cell_type": "markdown",
   "metadata": {},
   "source": [
    "### Read formatted spreadsheet, only use columns without text or unique IDs <a id='here'></a>"
   ]
  },
  {
   "cell_type": "code",
   "execution_count": 8,
   "metadata": {},
   "outputs": [],
   "source": [
    "df = pd.read_excel(\"../data/formatted.xlsx\") "
   ]
  },
  {
   "cell_type": "code",
   "execution_count": 9,
   "metadata": {},
   "outputs": [],
   "source": [
    "use_cols = ['stocking flag',\n",
    "       'national acct flag',\n",
    "        'Margin %', 'qty 6mos', 'cogs 6mos', 'picks 6mos'] \n",
    "# ,'net OH','net OH $', 'DIOH'] \n",
    "# 'sales channel', 'PROD CAT 4 NAME',"
   ]
  },
  {
   "cell_type": "code",
   "execution_count": 10,
   "metadata": {},
   "outputs": [],
   "source": [
    "target = df['core item flag'].astype('float32')\n",
    "data = df[use_cols].astype('float32');"
   ]
  },
  {
   "cell_type": "markdown",
   "metadata": {},
   "source": [
    "### Create model object ```clf``` "
   ]
  },
  {
   "cell_type": "code",
   "execution_count": 11,
   "metadata": {},
   "outputs": [],
   "source": [
    "clf = RandomForestClassifier(max_depth=2, random_state=0);"
   ]
  },
  {
   "cell_type": "code",
   "execution_count": 12,
   "metadata": {},
   "outputs": [],
   "source": [
    "clf.fit(data, target);"
   ]
  },
  {
   "cell_type": "markdown",
   "metadata": {},
   "source": [
    "The feature importances vector shows the relative significance of each attribute used in the model."
   ]
  },
  {
   "cell_type": "code",
   "execution_count": 13,
   "metadata": {},
   "outputs": [
    {
     "data": {
      "text/plain": [
       "[('national acct flag', 0.01596468405282644),\n",
       " ('picks 6mos', 0.022389240842908727),\n",
       " ('Margin %', 0.08983060278566918),\n",
       " ('cogs 6mos', 0.11097187278625781),\n",
       " ('stocking flag', 0.3675029696484314),\n",
       " ('qty 6mos', 0.39334062988390645)]"
      ]
     },
     "execution_count": 13,
     "metadata": {},
     "output_type": "execute_result"
    }
   ],
   "source": [
    "zipped = sorted(tuple(zip(use_cols, clf.feature_importances_)), key=lambda x: x[1])\n",
    "zipped"
   ]
  },
  {
   "cell_type": "markdown",
   "metadata": {},
   "source": [
    "```Score``` is % of our \"core\" items that Veritiv considers core."
   ]
  },
  {
   "cell_type": "code",
   "execution_count": 14,
   "metadata": {},
   "outputs": [
    {
     "data": {
      "text/plain": [
       "0.6282289969746334"
      ]
     },
     "execution_count": 14,
     "metadata": {},
     "output_type": "execute_result"
    }
   ],
   "source": [
    "clf.score(data, target)"
   ]
  },
  {
   "cell_type": "code",
   "execution_count": null,
   "metadata": {},
   "outputs": [],
   "source": []
  }
 ],
 "metadata": {
  "kernelspec": {
   "display_name": "Python 3",
   "language": "python",
   "name": "python3"
  },
  "language_info": {
   "codemirror_mode": {
    "name": "ipython",
    "version": 3
   },
   "file_extension": ".py",
   "mimetype": "text/x-python",
   "name": "python",
   "nbconvert_exporter": "python",
   "pygments_lexer": "ipython3",
   "version": "3.7.5"
  }
 },
 "nbformat": 4,
 "nbformat_minor": 4
}
