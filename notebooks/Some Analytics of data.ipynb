{
 "cells": [
  {
   "cell_type": "code",
   "execution_count": 5,
   "metadata": {},
   "outputs": [
    {
     "name": "stdout",
     "output_type": "stream",
     "text": [
      "Index(['legacy_system_cd', 'legacy_division_cd', 'legacy_product_cd',\n",
      "       'legacy_product_desc', 'core_item_flag', 'segment', 'PROD_CAT_1_NAME',\n",
      "       'PROD_CAT_2_NAME', 'PROD_CAT_3_NAME', 'PROD_CAT_4_NAME',\n",
      "       'legacy_vendor_cd', 'stocking_flag', 'LEGACY_CUSTOMER_CD',\n",
      "       'saalfeld_customer_flag', 'national_acct_flag', 'ship-to_zip_code',\n",
      "       'sales_channel', 'qty_6mos', 'cogs_6mos', 'Sales_6_mos', 'picks_6mos',\n",
      "       'Margin_%', 'net_OH', 'net_OH_usd', 'pallet_quantity', 'item_poi_days',\n",
      "       'DIOH'],\n",
      "      dtype='object')\n",
      "Total Number of Customers: 3469 \n",
      "\n",
      "Only Packaging number of customers: 2043\n",
      "Only Facilities number of customers: 644\n",
      "Number of Customers that buy from both: 782\n"
     ]
    }
   ],
   "source": [
    "#Goal is to find the worst performing products\n",
    "import numpy as np\n",
    "\n",
    "#import dataset\n",
    "import pandas as pd\n",
    "df = pd.read_excel(\"North Central Sales 6 Months GIT v2.xlsx\", sheet_name=\"North Central\")\n",
    "\n",
    "#remove whitespace from column names for easy access\n",
    "df.columns = [c.replace(' ', '_') for c in df.columns]\n",
    "df.columns = [c.replace('$', 'usd') for c in df.columns]\n",
    "print(df.columns)\n",
    "\n",
    "#Get number of customers that buy from Packaging, From facilities and from both\n",
    "customers = df.LEGACY_CUSTOMER_CD.unique()\n",
    "customer_to_seg = {}\n",
    "for c in customers:\n",
    "    customer_to_seg[c] = []\n",
    "\n",
    "for c, s in zip(df.LEGACY_CUSTOMER_CD.values, df.segment.values):\n",
    "    if s not in customer_to_seg[c]:\n",
    "        customer_to_seg[c].append(s)\n",
    "\n",
    "\n",
    "pack_count = 0\n",
    "facility_count = 0\n",
    "both_count = 0\n",
    "\n",
    "\n",
    "for c, l in customer_to_seg.items():\n",
    "    if \"Packaging\" in l and \"Facility Solutions\" not in l:\n",
    "        pack_count += 1\n",
    "    if \"Facility Solutions\" in l and \"Packaging\" not in l:\n",
    "        facility_count += 1\n",
    "    if \"Packaging\" in l and \"Facility Solutions\" in l:\n",
    "        both_count += 1\n",
    "print(\"Total Number of Customers:\", len(customers), \"\\n\")\n",
    "print(\"Only Packaging number of customers:\", pack_count)\n",
    "print(\"Only Facilities number of customers:\", facility_count)\n",
    "print(\"Number of Customers that buy from both:\", both_count)"
   ]
  },
  {
   "cell_type": "code",
   "execution_count": 6,
   "metadata": {},
   "outputs": [
    {
     "name": "stdout",
     "output_type": "stream",
     "text": [
      "6547\n"
     ]
    }
   ],
   "source": [
    "#get the important products\n",
    "imp_customers = df[df.national_acct_flag == \"Y\"]\n",
    "important_products = imp_customers.legacy_product_cd.unique()\n",
    "print(len(important_products))\n",
    "\n",
    "products = df.legacy_product_cd.unique()\n",
    "#print(len(products))\n",
    "\n",
    "#Create a dictionary of products to sales\n",
    "prod_to_sales = {}\n",
    "for p in products:\n",
    "    prod_to_sales[p] = 0\n",
    "\n",
    "    \n",
    "for p,s in zip(df.legacy_product_cd.values, df.Sales_6_mos.values):\n",
    "    prod_to_sales[p] += s\n",
    "\n",
    "\n",
    "#get the total value of sales\n",
    "total_sales = np.nansum(list(prod_to_sales.values()))\n",
    "\n",
    "#Create a dictionary of products to cogs\n",
    "prod_to_cogs = {}\n",
    "for p in products:\n",
    "    prod_to_cogs[p] = 0\n",
    "\n",
    "for p, c in zip(df.legacy_product_cd.values, df.cogs_6mos.values):\n",
    "    prod_to_cogs[p] += c\n",
    "\n",
    "#create a dictionary of products to profit = sales - cogs\n",
    "prod_to_profit = {}\n",
    "for p in products:\n",
    "    prod_to_profit[p] = 0\n",
    "\n",
    "for p in products:\n",
    "    prod_to_profit[p] += prod_to_sales[p] - prod_to_cogs[p]\n",
    "\n",
    "#get the total profit\n",
    "total_profit = np.nansum(list(prod_to_profit.values()))"
   ]
  },
  {
   "cell_type": "code",
   "execution_count": 7,
   "metadata": {},
   "outputs": [],
   "source": [
    "#Create a dictionary of products to total number of picks for that product\n",
    "prod_to_picks = {}\n",
    "for p in products:\n",
    "    prod_to_picks[p] = 0\n",
    "\n",
    "for p,pk in zip(df.legacy_product_cd.values, df.picks_6mos.values):\n",
    "    prod_to_picks[p] += pk"
   ]
  },
  {
   "cell_type": "code",
   "execution_count": 8,
   "metadata": {},
   "outputs": [
    {
     "name": "stdout",
     "output_type": "stream",
     "text": [
      "Number of Profitable products:  15525\n",
      "Total number of products:  16035\n"
     ]
    }
   ],
   "source": [
    "#See how many products are profitable and how many are losing money\n",
    "positive = {}\n",
    "for x,y in prod_to_profit.items():\n",
    "    if y >= 0:\n",
    "        positive[x] = y\n",
    "\n",
    "print(\"Number of Profitable products: \", len(positive.values()))\n",
    "print(\"Total number of products: \", len(prod_to_profit.values()))"
   ]
  },
  {
   "cell_type": "code",
   "execution_count": 18,
   "metadata": {},
   "outputs": [
    {
     "name": "stdout",
     "output_type": "stream",
     "text": [
      "Number of products in only one warehouse: 12383\n",
      "Number of products in two warehouses: 1651\n",
      "Number of products in three warehouses: 729\n",
      "Number of products in four warehouses: 383\n",
      "sum 15146\n",
      "Total number of products: 16035\n"
     ]
    }
   ],
   "source": [
    "#Create a dictionary of product -> number of warehouses where it is stored in one region\n",
    "prod_to_warehouse = {}\n",
    "for p in products:\n",
    "    prod_to_warehouse[p] = []\n",
    "\n",
    "for p, w in zip(df.legacy_product_cd.values, df.legacy_division_cd):\n",
    "    if w not in prod_to_warehouse[p]:\n",
    "        prod_to_warehouse[p].append(w)\n",
    "\n",
    "prod_to_nw = {}\n",
    "for p in products:\n",
    "    prod_to_nw[p] = len(prod_to_warehouse[p])\n",
    "\n",
    "print(\"Number of products in only one warehouse:\", list(prod_to_nw.values()).count(1))\n",
    "print(\"Number of products in two warehouses:\", list(prod_to_nw.values()).count(2))\n",
    "print(\"Number of products in three warehouses:\", list(prod_to_nw.values()).count(3))\n",
    "print(\"Number of products in four warehouses:\", list(prod_to_nw.values()).count(4))\n",
    "print(\"Total number of products:\", len(products))\n",
    "\n",
    "#MAKE A HISTOGRAM OF NUMBER OF WAREHOUSES THAT STORE A PARTICULAR PRODUCT"
   ]
  },
  {
   "cell_type": "code",
   "execution_count": 2,
   "metadata": {},
   "outputs": [
    {
     "name": "stdout",
     "output_type": "stream",
     "text": [
      "Index(['legacy_division_cd', 'legacy_division_desc', 'city', 'STATE',\n",
      "       'zipcode'],\n",
      "      dtype='object')\n"
     ]
    }
   ],
   "source": [
    "#Create an api request of travel distances\n",
    "import numpy as np\n",
    "\n",
    "#import dataset\n",
    "import pandas as pd\n",
    "loc_df = pd.read_excel(\"locations.xlsx\", sheet_name=\"Sheet1\")\n",
    "#remove whitespace from column names for easy access\n",
    "loc_df.columns = [c.replace(' ', '_') for c in loc_df.columns]\n",
    "print(loc_df.columns)"
   ]
  },
  {
   "cell_type": "code",
   "execution_count": null,
   "metadata": {},
   "outputs": [],
   "source": [
    "#Compare the quantity stored in each warehouse to the Net On Hand Inventory in Quantity "
   ]
  }
 ],
 "metadata": {
  "kernelspec": {
   "display_name": "Python 3",
   "language": "python",
   "name": "python3"
  },
  "language_info": {
   "codemirror_mode": {
    "name": "ipython",
    "version": 3
   },
   "file_extension": ".py",
   "mimetype": "text/x-python",
   "name": "python",
   "nbconvert_exporter": "python",
   "pygments_lexer": "ipython3",
   "version": "3.6.4"
  }
 },
 "nbformat": 4,
 "nbformat_minor": 2
}
