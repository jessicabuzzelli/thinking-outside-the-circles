{
 "cells": [
  {
   "cell_type": "code",
   "execution_count": 1,
   "metadata": {},
   "outputs": [
    {
     "name": "stdout",
     "output_type": "stream",
     "text": [
      "Index(['legacy_system_cd', 'legacy_division_cd', 'legacy_product_cd',\n",
      "       'legacy_product_desc', 'core_item_flag', 'segment', 'PROD_CAT_1_NAME',\n",
      "       'PROD_CAT_2_NAME', 'PROD_CAT_3_NAME', 'PROD_CAT_4_NAME',\n",
      "       'legacy_vendor_cd', 'stocking_flag', 'LEGACY_CUSTOMER_CD',\n",
      "       'saalfeld_customer_flag', 'national_acct_flag', 'ship-to_zip_code',\n",
      "       'sales_channel', 'qty_6mos', 'cogs_6mos', 'Sales_6_mos', 'picks_6mos',\n",
      "       'Margin_%', 'net_OH', 'net_OH_usd', 'pallet_quantity', 'item_poi_days',\n",
      "       'DIOH'],\n",
      "      dtype='object')\n"
     ]
    }
   ],
   "source": [
    "#import dataset\n",
    "import pandas as pd\n",
    "df = pd.read_excel(\"North Central Sales 6 Months GIT v2.xlsx\", sheet_name=\"North Central\")\n",
    "\n",
    "#remove whitespace from column names for easy access\n",
    "df.columns = [c.replace(' ', '_') for c in df.columns]\n",
    "df.columns = [c.replace('$', 'usd') for c in df.columns]\n",
    "print(df.columns)"
   ]
  },
  {
   "cell_type": "code",
   "execution_count": 2,
   "metadata": {},
   "outputs": [
    {
     "name": "stdout",
     "output_type": "stream",
     "text": [
      "6547\n"
     ]
    }
   ],
   "source": [
    "#Goal is to find the worst performing products\n",
    "import numpy as np\n",
    "\n",
    "#get the important products\n",
    "imp_customers = df[df.national_acct_flag == \"Y\"]\n",
    "important_products = imp_customers.legacy_product_cd.unique()\n",
    "print(len(important_products))\n",
    "\n",
    "products = df.legacy_product_cd.unique()\n",
    "#print(len(products))\n",
    "\n",
    "#Create a dictionary of products to sales\n",
    "prod_to_sales = {}\n",
    "for p in products:\n",
    "    prod_to_sales[p] = 0\n",
    "\n",
    "    \n",
    "for p,s in zip(df.legacy_product_cd.values, df.Sales_6_mos.values):\n",
    "    prod_to_sales[p] += s\n",
    "\n",
    "\n",
    "#get the total value of sales\n",
    "total_sales = np.nansum(list(prod_to_sales.values()))\n",
    "\n",
    "#Create a dictionary of products to cogs\n",
    "prod_to_cogs = {}\n",
    "for p in products:\n",
    "    prod_to_cogs[p] = 0\n",
    "\n",
    "for p, c in zip(df.legacy_product_cd.values, df.cogs_6mos.values):\n",
    "    prod_to_cogs[p] += c\n",
    "\n",
    "#create a dictionary of products to profit = sales - cogs\n",
    "prod_to_profit = {}\n",
    "for p in products:\n",
    "    prod_to_profit[p] = 0\n",
    "\n",
    "for p in products:\n",
    "    prod_to_profit[p] += prod_to_sales[p] - prod_to_cogs[p]\n",
    "\n",
    "#get the total profit\n",
    "total_profit = np.nansum(list(prod_to_profit.values()))"
   ]
  },
  {
   "cell_type": "code",
   "execution_count": 3,
   "metadata": {},
   "outputs": [
    {
     "name": "stdout",
     "output_type": "stream",
     "text": [
      "Number of Profitable products:  15525\n",
      "Total number of products:  16035\n"
     ]
    }
   ],
   "source": [
    "#See how many products are profitable and how many are losing money\n",
    "positive = {}\n",
    "for x,y in prod_to_profit.items():\n",
    "    if y >= 0:\n",
    "        positive[x] = y\n",
    "\n",
    "print(\"Number of Profitable products: \", len(positive.values()))\n",
    "print(\"Total number of products: \", len(prod_to_profit.values()))"
   ]
  },
  {
   "cell_type": "code",
   "execution_count": 4,
   "metadata": {},
   "outputs": [],
   "source": [
    "#Create a dictionary of products to total number of picks for that product\n",
    "prod_to_picks = {}\n",
    "for p in products:\n",
    "    prod_to_picks[p] = 0\n",
    "\n",
    "for p,pk in zip(df.legacy_product_cd.values, df.picks_6mos.values):\n",
    "    prod_to_picks[p] += pk"
   ]
  },
  {
   "cell_type": "code",
   "execution_count": 5,
   "metadata": {},
   "outputs": [
    {
     "name": "stdout",
     "output_type": "stream",
     "text": [
      "19 2972\n",
      "50 18\n",
      "73 145\n",
      "74 87\n",
      "75 3543\n",
      "77 1757\n",
      "78 271\n",
      "81 2513\n",
      "82 2079\n",
      "83 631\n",
      "84 3596\n",
      "85 1951\n",
      "87 1534\n",
      "89 3580\n",
      "41 883\n"
     ]
    }
   ],
   "source": [
    "#Create a dictionary that maps:\n",
    "#Warehouse (Division) -> Unique products sold at division\n",
    "\n",
    "warehouses = df.legacy_division_cd.unique()\n",
    "warehouse_to_prod = {}\n",
    "\n",
    "for w in warehouses:\n",
    "    warehouse_to_prod[w] = []\n",
    "\n",
    "for w, p in zip(df.legacy_division_cd.values, df.legacy_product_cd.values):\n",
    "    for ware in warehouses:\n",
    "        if w == ware and p not in warehouse_to_prod[w]:\n",
    "            warehouse_to_prod[w].append(p)\n",
    "\n",
    "#Print warehouse to number of individual different products stored            \n",
    "for w in warehouses:\n",
    "    print(w, len(warehouse_to_prod[w]))"
   ]
  },
  {
   "cell_type": "code",
   "execution_count": 20,
   "metadata": {},
   "outputs": [
    {
     "name": "stdout",
     "output_type": "stream",
     "text": [
      "1054\n",
      "790\n"
     ]
    }
   ],
   "source": [
    "wp_to_margin = {}\n",
    "wp_to_picks = {}\n",
    "wp_to_quantity = {}\n",
    "for w in warehouses:\n",
    "    for p in warehouse_to_prod[w]:\n",
    "        wp_to_margin[w,p] = []\n",
    "        wp_to_picks[w,p] = []\n",
    "        wp_to_quantity[w,p] = []\n",
    "\n",
    "for w, p, s, c, pk, q in zip(df.legacy_division_cd.values, df.legacy_product_cd.values, df.Sales_6_mos, df.cogs_6mos, df.picks_6mos, df.qty_6mos):\n",
    "    if p in warehouse_to_prod[w]:\n",
    "        wp_to_margin[w,p].append(s-c)\n",
    "        wp_to_picks[w,p].append(pk)\n",
    "        wp_to_quantity[w,p].append(q)\n",
    "\n",
    "for w in warehouses:\n",
    "    for p in warehouse_to_prod[w]:\n",
    "        wp_to_margin[w,p] = sum(wp_to_margin[w,p])\n",
    "        wp_to_picks[w,p] = sum(wp_to_picks[w,p])\n",
    "        wp_to_quantity[w,p] = sum(wp_to_quantity[w,p])\n",
    "\n",
    "count = 0\n",
    "for w in warehouses:\n",
    "    for p in warehouse_to_prod[w]:\n",
    "        if wp_to_margin[w,p] <= 0:\n",
    "            count += 1\n",
    "\n",
    "print(\"Number of not profitable products at the warehouse level: \", count)\n",
    "count2 = 0\n",
    "for p in products:\n",
    "    if prod_to_profit[p] <= 0:\n",
    "        count2 += 1\n",
    "            \n",
    "print(\"Number of not profitable products at the regional level: \", count2)"
   ]
  },
  {
   "cell_type": "code",
   "execution_count": null,
   "metadata": {},
   "outputs": [],
   "source": [
    "#Create a Dictionary of a warehouse, product cd pair with its net OH in units, net OH $ as values, item poi days & DIOH\n",
    "#Example:\n",
    "#Warehouse 19 houses product 10012415 and it has 4 units in on hand inventory, $81.2 of on hand inventory,\n",
    "#302.430555555556 of average poi in days & 38.5263664820611 of DIOH\n",
    "#The dictionary will look like this: wp_to_oh[19, 10012415] = [4.0, 81.2, 302.430555555556, 38.5263664820611]\n",
    "\n",
    "wp_to_stats = {}\n",
    "for w in warehouses:\n",
    "    for p in warehouse_to_prod[w]:\n",
    "        wp_to_stats[w,p] = [0,0,0,0]\n",
    "\n",
    "for w, p, oh_usd, oh, poi, DIOH in zip(df.legacy_division_cd.values, df.legacy_product_cd.values, df.net_OH_usd.values, df.net_OH.values,\n",
    "                           df.item_poi_days.values, df.DIOH.values):\n",
    "    if wp_to_stats[w,p] == [0,0,0,0]:\n",
    "        wp_to_stats[w,p] = [oh, oh_usd, poi, DIOH]"
   ]
  },
  {
   "cell_type": "code",
   "execution_count": null,
   "metadata": {},
   "outputs": [],
   "source": [
    "#Get number of customers that buy from Packaging, From facilities and from both\n",
    "customers = df.LEGACY_CUSTOMER_CD.unique()\n",
    "customer_to_seg = {}\n",
    "for c in customers:\n",
    "    customer_to_seg[c] = []\n",
    "\n",
    "for c, s in zip(df.LEGACY_CUSTOMER_CD.values, df.segment.values):\n",
    "    if s not in customer_to_seg[c]:\n",
    "        customer_to_seg[c].append(s)\n",
    "\n",
    "\n",
    "pack_count = 0\n",
    "facility_count = 0\n",
    "both_count = 0\n",
    "\n",
    "\n",
    "for c, l in customer_to_seg.items():\n",
    "    if \"Packaging\" in l and \"Facility Solutions\" not in l:\n",
    "        pack_count += 1\n",
    "    if \"Facility Solutions\" in l and \"Packaging\" not in l:\n",
    "        facility_count += 1\n",
    "    if \"Packaging\" in l and \"Facility Solutions\" in l:\n",
    "        both_count += 1\n",
    "print(\"Total Number of Customers:\", len(customers), \"\\n\")\n",
    "print(\"Only Packaging number of customers:\", pack_count)\n",
    "print(\"Only Facilities number of customers:\", facility_count)\n",
    "print(\"Number of Customers that buy from both:\", both_count)"
   ]
  },
  {
   "cell_type": "code",
   "execution_count": null,
   "metadata": {},
   "outputs": [],
   "source": []
  }
 ],
 "metadata": {
  "kernelspec": {
   "display_name": "Python 3",
   "language": "python",
   "name": "python3"
  },
  "language_info": {
   "codemirror_mode": {
    "name": "ipython",
    "version": 3
   },
   "file_extension": ".py",
   "mimetype": "text/x-python",
   "name": "python",
   "nbconvert_exporter": "python",
   "pygments_lexer": "ipython3",
   "version": "3.6.4"
  }
 },
 "nbformat": 4,
 "nbformat_minor": 2
}
