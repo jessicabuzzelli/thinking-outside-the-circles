{
 "cells": [
  {
   "cell_type": "code",
   "execution_count": 1,
   "metadata": {},
   "outputs": [],
   "source": [
    "import pandas as pd\n",
    "import numpy as np\n",
    "from sklearn.cluster import KMeans\n",
    "%matplotlib inline\n",
    "import matplotlib.pyplot as plt\n",
    "from seaborn import scatterplot, palplot"
   ]
  },
  {
   "cell_type": "code",
   "execution_count": 2,
   "metadata": {},
   "outputs": [],
   "source": [
    "typesdict = {'cogs 6mo': str, 'quantity 6mos': str}"
   ]
  },
  {
   "cell_type": "code",
   "execution_count": 3,
   "metadata": {
    "scrolled": true
   },
   "outputs": [],
   "source": [
    "df = pd.read_excel(\"data/North Central Sales 6 Months for GIT.xlsx\") #, dtype=typesdict)\n",
    "\n",
    "df['PROD CAT 4 NAME'].fillna(\"Nonbranded\")\n",
    "df.columns = [name.strip() for name in df.columns];"
   ]
  },
  {
   "cell_type": "code",
   "execution_count": 4,
   "metadata": {},
   "outputs": [],
   "source": [
    "number_rows = df.shape[0]"
   ]
  },
  {
   "cell_type": "markdown",
   "metadata": {},
   "source": [
    "Predefine given and derived categories for use. Format: ```str: list(str)```. Derived categories should have strings containing numbers beginning at 1 as their bucket names. "
   ]
  },
  {
   "cell_type": "code",
   "execution_count": 5,
   "metadata": {},
   "outputs": [],
   "source": [
    "preset_categories = {\n",
    "                     'core item flag': ['Y', 'N'],\n",
    "                     'segment': ['Packaging', 'Facility Solutions'], \n",
    "                     'stocking flag': ['Y', 'N'],\n",
    "                     'national acct flag': ['Y', 'N'],\n",
    "                     }"
   ]
  },
  {
   "cell_type": "code",
   "execution_count": 6,
   "metadata": {},
   "outputs": [],
   "source": [
    "derived_categories = {\n",
    "                      'qty 6mos': [str(x) for x in range(9)],\n",
    "                      'cogs 6mos': [str(x) for x in range(9)]\n",
    "                     }"
   ]
  },
  {
   "cell_type": "markdown",
   "metadata": {},
   "source": [
    "Create \"buckets\" for derived categories (by formula, by sorted percentile, etc)"
   ]
  },
  {
   "cell_type": "code",
   "execution_count": 7,
   "metadata": {},
   "outputs": [],
   "source": [
    "bucket_series = []\n",
    "\n",
    "for attr in derived_categories.keys():\n",
    "    series = df[attr].astype('float64')\n",
    "    series.fillna(0)\n",
    "    \n",
    "    sorted_copy = series.sort_values()\n",
    "    \n",
    "    # TODO - redo -- doesn't work for double-digit number of buckets (was lazy when designing this oops)\n",
    "    bucket_cutoffs = number_rows // len(derived_categories[attr])\n",
    "    bucket_assignment = list(''.join([num * bucket_cutoffs for num in derived_categories[attr]]))\n",
    "    \n",
    "    while len(sorted_copy.index) != len(bucket_assignment):\n",
    "        bucket_assignment.append(derived_categories[attr][-1])\n",
    "    \n",
    "    df2 = pd.DataFrame(sorted_copy)\n",
    "    df2['{} subcategory'.format(attr)] = bucket_assignment\n",
    "    \n",
    "    df2 = df2.sort_index()\n",
    "\n",
    "    bucket_series.append(df2['{} subcategory'.format(attr)])"
   ]
  },
  {
   "cell_type": "code",
   "execution_count": 8,
   "metadata": {},
   "outputs": [
    {
     "data": {
      "text/html": [
       "<div>\n",
       "<style scoped>\n",
       "    .dataframe tbody tr th:only-of-type {\n",
       "        vertical-align: middle;\n",
       "    }\n",
       "\n",
       "    .dataframe tbody tr th {\n",
       "        vertical-align: top;\n",
       "    }\n",
       "\n",
       "    .dataframe thead th {\n",
       "        text-align: right;\n",
       "    }\n",
       "</style>\n",
       "<table border=\"1\" class=\"dataframe\">\n",
       "  <thead>\n",
       "    <tr style=\"text-align: right;\">\n",
       "      <th></th>\n",
       "      <th>qty 6mos subcategory</th>\n",
       "      <th>cogs 6mos subcategory</th>\n",
       "    </tr>\n",
       "  </thead>\n",
       "  <tbody>\n",
       "    <tr>\n",
       "      <th>0</th>\n",
       "      <td>3</td>\n",
       "      <td>2</td>\n",
       "    </tr>\n",
       "    <tr>\n",
       "      <th>1</th>\n",
       "      <td>2</td>\n",
       "      <td>1</td>\n",
       "    </tr>\n",
       "    <tr>\n",
       "      <th>2</th>\n",
       "      <td>6</td>\n",
       "      <td>8</td>\n",
       "    </tr>\n",
       "    <tr>\n",
       "      <th>3</th>\n",
       "      <td>8</td>\n",
       "      <td>0</td>\n",
       "    </tr>\n",
       "    <tr>\n",
       "      <th>4</th>\n",
       "      <td>8</td>\n",
       "      <td>6</td>\n",
       "    </tr>\n",
       "  </tbody>\n",
       "</table>\n",
       "</div>"
      ],
      "text/plain": [
       "  qty 6mos subcategory cogs 6mos subcategory\n",
       "0                    3                     2\n",
       "1                    2                     1\n",
       "2                    6                     8\n",
       "3                    8                     0\n",
       "4                    8                     6"
      ]
     },
     "execution_count": 8,
     "metadata": {},
     "output_type": "execute_result"
    }
   ],
   "source": [
    "df1 = pd.DataFrame(bucket_series[0])\n",
    "\n",
    "for item in bucket_series[1:]:\n",
    "    df1[item.name] = item\n",
    "\n",
    "df1.head()"
   ]
  },
  {
   "cell_type": "markdown",
   "metadata": {},
   "source": [
    "Reformat preset categorizies (the Y/N, etc labels) into binary 0s and 1s for use in the model. Will be converted back after clustering for humans :)"
   ]
  },
  {
   "cell_type": "code",
   "execution_count": 9,
   "metadata": {},
   "outputs": [],
   "source": [
    "# TODO - binarize preset inputs"
   ]
  },
  {
   "cell_type": "markdown",
   "metadata": {},
   "source": [
    "Add in the preset categories to create the \"feature matrix\" for clustering:"
   ]
  },
  {
   "cell_type": "code",
   "execution_count": 10,
   "metadata": {},
   "outputs": [],
   "source": [
    "# for column in preset_categories:\n",
    "#     df1[column] = df[column]\n",
    "\n",
    "# df1.head()"
   ]
  },
  {
   "cell_type": "markdown",
   "metadata": {},
   "source": [
    "Run model and get clusters."
   ]
  },
  {
   "cell_type": "code",
   "execution_count": 11,
   "metadata": {},
   "outputs": [
    {
     "name": "stdout",
     "output_type": "stream",
     "text": [
      "   0\n",
      "0  1\n",
      "1  1\n",
      "2  0\n",
      "3  2\n",
      "4  0\n"
     ]
    }
   ],
   "source": [
    "model = KMeans(n_clusters=7)\n",
    "out = pd.DataFrame(model.fit_predict(df1))\n",
    "\n",
    "print(out.head())\n"
   ]
  },
  {
   "cell_type": "code",
   "execution_count": 12,
   "metadata": {},
   "outputs": [
    {
     "data": {
      "text/html": [
       "<div>\n",
       "<style scoped>\n",
       "    .dataframe tbody tr th:only-of-type {\n",
       "        vertical-align: middle;\n",
       "    }\n",
       "\n",
       "    .dataframe tbody tr th {\n",
       "        vertical-align: top;\n",
       "    }\n",
       "\n",
       "    .dataframe thead th {\n",
       "        text-align: right;\n",
       "    }\n",
       "</style>\n",
       "<table border=\"1\" class=\"dataframe\">\n",
       "  <thead>\n",
       "    <tr style=\"text-align: right;\">\n",
       "      <th></th>\n",
       "      <th>qty 6mos subcategory</th>\n",
       "      <th>cogs 6mos subcategory</th>\n",
       "      <th>cluster</th>\n",
       "    </tr>\n",
       "  </thead>\n",
       "  <tbody>\n",
       "    <tr>\n",
       "      <th>0</th>\n",
       "      <td>3</td>\n",
       "      <td>2</td>\n",
       "      <td>1</td>\n",
       "    </tr>\n",
       "    <tr>\n",
       "      <th>1</th>\n",
       "      <td>2</td>\n",
       "      <td>1</td>\n",
       "      <td>1</td>\n",
       "    </tr>\n",
       "    <tr>\n",
       "      <th>2</th>\n",
       "      <td>6</td>\n",
       "      <td>8</td>\n",
       "      <td>0</td>\n",
       "    </tr>\n",
       "    <tr>\n",
       "      <th>3</th>\n",
       "      <td>8</td>\n",
       "      <td>0</td>\n",
       "      <td>2</td>\n",
       "    </tr>\n",
       "    <tr>\n",
       "      <th>4</th>\n",
       "      <td>8</td>\n",
       "      <td>6</td>\n",
       "      <td>0</td>\n",
       "    </tr>\n",
       "  </tbody>\n",
       "</table>\n",
       "</div>"
      ],
      "text/plain": [
       "  qty 6mos subcategory cogs 6mos subcategory  cluster\n",
       "0                    3                     2        1\n",
       "1                    2                     1        1\n",
       "2                    6                     8        0\n",
       "3                    8                     0        2\n",
       "4                    8                     6        0"
      ]
     },
     "execution_count": 12,
     "metadata": {},
     "output_type": "execute_result"
    }
   ],
   "source": [
    "df1['cluster'] = out\n",
    "df1.head()"
   ]
  },
  {
   "cell_type": "code",
   "execution_count": 13,
   "metadata": {},
   "outputs": [
    {
     "data": {
      "image/png": "[encoded data removed]",
      "text/plain": [
       "<Figure size 432x288 with 1 Axes>"
      ]
     },
     "metadata": {
      "needs_background": "light"
     },
     "output_type": "display_data"
    }
   ],
   "source": [
    "ax = scatterplot(data=df1, x='qty 6mos subcategory', y='cogs 6mos subcategory', hue='cluster')\n",
    "ax.legend(loc='center left', bbox_to_anchor=(1, 0.5))\n",
    "plt.show()"
   ]
  },
  {
   "cell_type": "markdown",
   "metadata": {},
   "source": [
    "The above chart shows the different clusters based on the attributes considered (the columns of df1). If a cluster is split up / isn't continously linked to itself, it can imply that we need more clusters. Also, we currently have an even number of items in each bucket -- this makes the chart look like evenly spaced dots that all have the same frequency. If we redefine the \"bucketing\" of continuous attributes (cogs, revenue, etc.) so that the buckets aren't all even (ie using a distribution such as N(0,1) where the middle buckets have 23% and so on...), the scatterplot will be more random and the clusters more meaningful. "
   ]
  },
  {
   "cell_type": "markdown",
   "metadata": {},
   "source": [
    "<a href=\"https://commons.wikimedia.org/wiki/File:K-means_convergence.gif\">This</a> is what the algorithm is trying to do."
   ]
  },
  {
   "cell_type": "markdown",
   "metadata": {},
   "source": [
    "Ideally, this algorithm will have a lot of different variables to consider and will be working in 10+ dimensions instead of the two plotted above. These dimensions come from the categories that naturally exist in the data (flags, yes/no fields) and attributes derived from the total population (buckets based on a distribution across the range of cogs/revenue data, etc.)."
   ]
  },
  {
   "cell_type": "code",
   "execution_count": null,
   "metadata": {},
   "outputs": [],
   "source": []
  }
 ],
 "metadata": {
  "kernelspec": {
   "display_name": "Python 3",
   "language": "python",
   "name": "python3"
  },
  "language_info": {
   "codemirror_mode": {
    "name": "ipython",
    "version": 3
   },
   "file_extension": ".py",
   "mimetype": "text/x-python",
   "name": "python",
   "nbconvert_exporter": "python",
   "pygments_lexer": "ipython3",
   "version": "3.7.5"
  }
 },
 "nbformat": 4,
 "nbformat_minor": 4
}
